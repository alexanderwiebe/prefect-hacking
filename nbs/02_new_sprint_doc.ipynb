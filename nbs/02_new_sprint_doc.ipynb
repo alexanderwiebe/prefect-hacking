{
 "cells": [
  {
   "cell_type": "markdown",
   "id": "6763a0b9",
   "metadata": {},
   "source": [
    "# New Sprint Doc flow\n",
    "\n",
    "The following notebook covers the steps to copy a confluence doc, rename it and then send out some slack messages."
   ]
  },
  {
   "cell_type": "code",
   "execution_count": 23,
   "id": "30d48b0c",
   "metadata": {},
   "outputs": [
    {
     "data": {
      "text/plain": [
       "True"
      ]
     },
     "execution_count": 23,
     "metadata": {},
     "output_type": "execute_result"
    }
   ],
   "source": [
    "from prefect import flow, task, get_run_logger\n",
    "from atlassian import Confluence\n",
    "from datetime import datetime, timezone, timedelta\n",
    "import os\n",
    "from dotenv import load_dotenv\n",
    "\n",
    "load_dotenv()"
   ]
  },
  {
   "cell_type": "code",
   "execution_count": 25,
   "id": "42d99922",
   "metadata": {},
   "outputs": [],
   "source": [
    "@task\n",
    "def set_variables():\n",
    "    # Use UTC date for consistency; adjust if you prefer local time\n",
    "    today = datetime.now(timezone.utc).date()\n",
    "    end_date = today + timedelta(days=13)\n",
    "    new_doc_title = f\"{today.isoformat()} - {end_date.isoformat()}\"\n",
    "\n",
    "    return {\n",
    "        \"atlassian_key\": os.getenv(\"ATLASSIAN_KEY\", \"\"),\n",
    "        \"atlassian_domain\": os.getenv(\"ATLASSIAN_DOMAIN\", \"\"),\n",
    "        \"atlassian_email\": os.getenv(\"ATLASSIAN_EMAIL\", \"\"),\n",
    "        \"slack_key\": os.getenv(\"SLACK_KEY\", \"\"),\n",
    "        \"confluence_copy_targett_id\": os.getenv(\"CONFLUENCE_COPY_TARGETT_ID\", \"\"),\n",
    "        \"slack_user_id\": os.getenv(\"SLACK_USER_ID\", \"\"),\n",
    "        \"confluence_space_id\": os.getenv(\"CONFLUENCE_SPACE_ID\", \"\"),\n",
    "        \"new_doc_title\": new_doc_title,\n",
    "        \"template_id\": os.getenv(\"CONFLUENCE_COPY_TARGETT_ID\", \"\")\n",
    "    }"
   ]
  },
  {
   "cell_type": "code",
   "execution_count": null,
   "id": "f85e7487",
   "metadata": {},
   "outputs": [],
   "source": [
    "set_variables()"
   ]
  },
  {
   "cell_type": "code",
   "execution_count": null,
   "id": "296d279a",
   "metadata": {},
   "outputs": [],
   "source": [
    "@task\n",
    "def copy_template(variables: dict):\n",
    "    confluence: Confluence = Confluence(\n",
    "        url=variables[\"atlassian_domain\"],\n",
    "        username=variables[\"atlassian_email\"],\n",
    "        password=variables[\"atlassian_key\"],\n",
    "        cloud=True,\n",
    "    )\n",
    "    source_page = confluence.get_page_by_id(page_id=variables[\"confluence_copy_targett_id\"], expand=\"body.storage,ancestors\")\n",
    "    \n",
    "    existing = confluence.get_page_by_title(space=variables[\"confluence_space_id\"], title=variables[\"new_doc_title\"])\n",
    "    if existing:\n",
    "        return {\n",
    "            \"doc_id\": existing[\"id\"],\n",
    "            \"title\": existing[\"title\"],\n",
    "            \"created\": False\n",
    "        }\n",
    "\n",
    "    body_html = source_page[\"body\"][\"storage\"][\"value\"]\n",
    "    parent_id = None\n",
    "    ancestors = source_page.get(\"ancestors\") or []\n",
    "    if ancestors:\n",
    "        parent_id = ancestors[-1][\"id\"]\n",
    "\n",
    "    new_page = confluence.create_page(\n",
    "        space=variables[\"confluence_space_id\"],\n",
    "        title=variables[\"new_doc_title\"],\n",
    "        body=body_html,\n",
    "        parent_id=parent_id\n",
    "    )\n",
    "\n",
    "    return {\n",
    "        \"doc_id\": new_page[\"id\"],\n",
    "        \"title\": new_page[\"title\"],\n",
    "        \"created\": True\n",
    "    }"
   ]
  },
  {
   "cell_type": "code",
   "execution_count": 34,
   "id": "f1c4f976",
   "metadata": {},
   "outputs": [
    {
     "data": {
      "text/html": [
       "<pre style=\"white-space:pre;overflow-x:auto;line-height:normal;font-family:Menlo,'DejaVu Sans Mono',consolas,'Courier New',monospace\">18:46:41.957 | <span style=\"color: #008080; text-decoration-color: #008080\">INFO</span>    | Task run 'set_variables' - Finished in state <span style=\"color: #008000; text-decoration-color: #008000\">Completed</span>()\n",
       "</pre>\n"
      ],
      "text/plain": [
       "18:46:41.957 | \u001b[36mINFO\u001b[0m    | Task run 'set_variables' - Finished in state \u001b[32mCompleted\u001b[0m()\n"
      ]
     },
     "metadata": {},
     "output_type": "display_data"
    },
    {
     "data": {
      "text/html": [
       "<pre style=\"white-space:pre;overflow-x:auto;line-height:normal;font-family:Menlo,'DejaVu Sans Mono',consolas,'Courier New',monospace\">18:46:42.821 | <span style=\"color: #d70000; text-decoration-color: #d70000\">ERROR</span>   | atlassian.confluence - Can't find '2025-09-28 - 2025-10-11' page on <span style=\"color: #0000ff; text-decoration-color: #0000ff\">https://bitovi.atlassian.net/wiki</span>\n",
       "</pre>\n"
      ],
      "text/plain": [
       "18:46:42.821 | \u001b[38;5;160mERROR\u001b[0m   | atlassian.confluence - Can't find '2025-09-28 - 2025-10-11' page on \u001b[94mhttps://bitovi.atlassian.net/wiki\u001b[0m\n"
      ]
     },
     "metadata": {},
     "output_type": "display_data"
    },
    {
     "data": {
      "text/html": [
       "<pre style=\"white-space:pre;overflow-x:auto;line-height:normal;font-family:Menlo,'DejaVu Sans Mono',consolas,'Courier New',monospace\">18:46:44.581 | <span style=\"color: #008080; text-decoration-color: #008080\">INFO</span>    | Task run 'copy_template' - Finished in state <span style=\"color: #008000; text-decoration-color: #008000\">Completed</span>()\n",
       "</pre>\n"
      ],
      "text/plain": [
       "18:46:44.581 | \u001b[36mINFO\u001b[0m    | Task run 'copy_template' - Finished in state \u001b[32mCompleted\u001b[0m()\n"
      ]
     },
     "metadata": {},
     "output_type": "display_data"
    },
    {
     "data": {
      "text/plain": [
       "{'doc_id': '1553072155', 'title': '2025-09-28 - 2025-10-11', 'created': True}"
      ]
     },
     "execution_count": 34,
     "metadata": {},
     "output_type": "execute_result"
    }
   ],
   "source": [
    "copy_template(set_variables())"
   ]
  },
  {
   "cell_type": "code",
   "execution_count": 7,
   "id": "83b43bcd",
   "metadata": {},
   "outputs": [],
   "source": [
    "@task\n",
    "def send_slack_update(doc_id: str):\n",
    "    print(f\"Slack: New document created with id {doc_id}\")"
   ]
  },
  {
   "cell_type": "code",
   "execution_count": 8,
   "id": "1962761f",
   "metadata": {},
   "outputs": [],
   "source": [
    "@task\n",
    "def send_congrats():\n",
    "    print(\"Slack: Congrats! 🎉\")"
   ]
  },
  {
   "cell_type": "markdown",
   "id": "f0f1c229",
   "metadata": {},
   "source": [
    "# Main Flow"
   ]
  },
  {
   "cell_type": "code",
   "execution_count": 11,
   "id": "ddddb37f",
   "metadata": {},
   "outputs": [],
   "source": [
    "@flow\n",
    "def sprint_success_flow():\n",
    "    logger = get_run_logger()\n",
    "\n",
    "    vars = set_variables()\n",
    "    doc_id = None\n",
    "\n",
    "    try:\n",
    "        # Step 1 – copy and rename\n",
    "        copied = copy_template(vars[\"template_id\"])\n",
    "        renamed = rename_doc(copied[\"doc_id\"], vars[\"doc_name\"])\n",
    "        doc_id = renamed[\"doc_id\"]\n",
    "\n",
    "    except Exception as e:\n",
    "        logger.warning(f\"Error during rename: {e}\")\n",
    "        delete_duplicate(copied[\"doc_id\"])\n",
    "        corrected = find_correct_doc()\n",
    "        doc_id = corrected[\"doc_id\"]\n",
    "\n",
    "    # Step 2 – notify in Slack\n",
    "    send_slack_update(doc_id)\n",
    "    send_congrats()"
   ]
  },
  {
   "cell_type": "code",
   "execution_count": null,
   "id": "1e159229",
   "metadata": {},
   "outputs": [],
   "source": [
    "# Biweekly deployment (every 14 days) anchored to a Thursday noon UTC\n",
    "anchor = datetime(2025, 9, 25, 12, 0, tzinfo=timezone.utc)\n",
    "\n",
    "sprint_success_flow.deploy(\n",
    "    name=\"sprint-scheduler\",\n",
    "    interval=timedelta(days=14),\n",
    "    anchor_date=anchor,\n",
    "    tags=[\"sprint\", \"biweekly\"],\n",
    ")"
   ]
  },
  {
   "cell_type": "code",
   "execution_count": 12,
   "id": "cbc00b48",
   "metadata": {},
   "outputs": [
    {
     "data": {
      "text/html": [
       "<pre style=\"white-space:pre;overflow-x:auto;line-height:normal;font-family:Menlo,'DejaVu Sans Mono',consolas,'Courier New',monospace\">19:48:18.255 | <span style=\"color: #008080; text-decoration-color: #008080\">INFO</span>    | Flow run<span style=\"color: #800080; text-decoration-color: #800080\"> 'lavender-shrimp'</span> - Beginning flow run<span style=\"color: #800080; text-decoration-color: #800080\"> 'lavender-shrimp'</span> for flow<span style=\"color: #800080; text-decoration-color: #800080; font-weight: bold\"> 'sprint-success-flow'</span>\n",
       "</pre>\n"
      ],
      "text/plain": [
       "19:48:18.255 | \u001b[36mINFO\u001b[0m    | Flow run\u001b[35m 'lavender-shrimp'\u001b[0m - Beginning flow run\u001b[35m 'lavender-shrimp'\u001b[0m for flow\u001b[1;35m 'sprint-success-flow'\u001b[0m\n"
      ]
     },
     "metadata": {},
     "output_type": "display_data"
    },
    {
     "data": {
      "text/html": [
       "<pre style=\"white-space:pre;overflow-x:auto;line-height:normal;font-family:Menlo,'DejaVu Sans Mono',consolas,'Courier New',monospace\">19:48:18.259 | <span style=\"color: #008080; text-decoration-color: #008080\">INFO</span>    | Flow run<span style=\"color: #800080; text-decoration-color: #800080\"> 'lavender-shrimp'</span> - View at <span style=\"color: #0000ff; text-decoration-color: #0000ff\">http://host.docker.internal:4200/runs/flow-run/f4681d53-947d-4ace-a941-6730172660e2</span>\n",
       "</pre>\n"
      ],
      "text/plain": [
       "19:48:18.259 | \u001b[36mINFO\u001b[0m    | Flow run\u001b[35m 'lavender-shrimp'\u001b[0m - View at \u001b[94mhttp://host.docker.internal:4200/runs/flow-run/f4681d53-947d-4ace-a941-6730172660e2\u001b[0m\n"
      ]
     },
     "metadata": {},
     "output_type": "display_data"
    },
    {
     "data": {
      "text/html": [
       "<pre style=\"white-space:pre;overflow-x:auto;line-height:normal;font-family:Menlo,'DejaVu Sans Mono',consolas,'Courier New',monospace\">19:48:18.307 | <span style=\"color: #008080; text-decoration-color: #008080\">INFO</span>    | Task run 'set_variables-d24' - Finished in state <span style=\"color: #008000; text-decoration-color: #008000\">Completed</span>()\n",
       "</pre>\n"
      ],
      "text/plain": [
       "19:48:18.307 | \u001b[36mINFO\u001b[0m    | Task run 'set_variables-d24' - Finished in state \u001b[32mCompleted\u001b[0m()\n"
      ]
     },
     "metadata": {},
     "output_type": "display_data"
    },
    {
     "data": {
      "text/html": [
       "<pre style=\"white-space:pre;overflow-x:auto;line-height:normal;font-family:Menlo,'DejaVu Sans Mono',consolas,'Courier New',monospace\">19:48:18.346 | <span style=\"color: #008080; text-decoration-color: #008080\">INFO</span>    | Task run 'copy_template-10a' - Finished in state <span style=\"color: #008000; text-decoration-color: #008000\">Completed</span>()\n",
       "</pre>\n"
      ],
      "text/plain": [
       "19:48:18.346 | \u001b[36mINFO\u001b[0m    | Task run 'copy_template-10a' - Finished in state \u001b[32mCompleted\u001b[0m()\n"
      ]
     },
     "metadata": {},
     "output_type": "display_data"
    },
    {
     "data": {
      "text/html": [
       "<pre style=\"white-space:pre;overflow-x:auto;line-height:normal;font-family:Menlo,'DejaVu Sans Mono',consolas,'Courier New',monospace\">19:48:18.372 | <span style=\"color: #d70000; text-decoration-color: #d70000\">ERROR</span>   | Task run 'rename_doc-e9b' - Task run failed with exception: ValueError('Duplicate document exists')\n",
       "Traceback (most recent call last):\n",
       "  File \"/usr/local/lib/python3.11/site-packages/prefect/task_engine.py\", line 870, in run_context\n",
       "    yield self\n",
       "  File \"/usr/local/lib/python3.11/site-packages/prefect/task_engine.py\", line 1510, in run_task_sync\n",
       "    engine.call_task_fn(txn)\n",
       "  File \"/usr/local/lib/python3.11/site-packages/prefect/task_engine.py\", line 887, in call_task_fn\n",
       "    result = call_with_parameters(self.task.fn, parameters)\n",
       "             ^^^^^^^^^^^^^^^^^^^^^^^^^^^^^^^^^^^^^^^^^^^^^^\n",
       "  File \"/usr/local/lib/python3.11/site-packages/prefect/utilities/callables.py\", line 210, in call_with_parameters\n",
       "    return fn(*args, **kwargs)\n",
       "           ^^^^^^^^^^^^^^^^^^^\n",
       "  File \"/tmp/ipykernel_74282/1533375476.py\", line 6, in rename_doc\n",
       "    raise ValueError(\"Duplicate document exists\")\n",
       "ValueError: Duplicate document exists\n",
       "</pre>\n"
      ],
      "text/plain": [
       "19:48:18.372 | \u001b[38;5;160mERROR\u001b[0m   | Task run 'rename_doc-e9b' - Task run failed with exception: ValueError('Duplicate document exists')\n",
       "Traceback (most recent call last):\n",
       "  File \"/usr/local/lib/python3.11/site-packages/prefect/task_engine.py\", line 870, in run_context\n",
       "    yield self\n",
       "  File \"/usr/local/lib/python3.11/site-packages/prefect/task_engine.py\", line 1510, in run_task_sync\n",
       "    engine.call_task_fn(txn)\n",
       "  File \"/usr/local/lib/python3.11/site-packages/prefect/task_engine.py\", line 887, in call_task_fn\n",
       "    result = call_with_parameters(self.task.fn, parameters)\n",
       "             ^^^^^^^^^^^^^^^^^^^^^^^^^^^^^^^^^^^^^^^^^^^^^^\n",
       "  File \"/usr/local/lib/python3.11/site-packages/prefect/utilities/callables.py\", line 210, in call_with_parameters\n",
       "    return fn(*args, **kwargs)\n",
       "           ^^^^^^^^^^^^^^^^^^^\n",
       "  File \"/tmp/ipykernel_74282/1533375476.py\", line 6, in rename_doc\n",
       "    raise ValueError(\"Duplicate document exists\")\n",
       "ValueError: Duplicate document exists\n"
      ]
     },
     "metadata": {},
     "output_type": "display_data"
    },
    {
     "data": {
      "text/html": [
       "<pre style=\"white-space:pre;overflow-x:auto;line-height:normal;font-family:Menlo,'DejaVu Sans Mono',consolas,'Courier New',monospace\">19:48:18.378 | <span style=\"color: #d70000; text-decoration-color: #d70000\">ERROR</span>   | Task run 'rename_doc-e9b' - Finished in state <span style=\"color: #d70000; text-decoration-color: #d70000\">Failed</span>('Task run encountered an exception ValueError: Duplicate document exists')\n",
       "</pre>\n"
      ],
      "text/plain": [
       "19:48:18.378 | \u001b[38;5;160mERROR\u001b[0m   | Task run 'rename_doc-e9b' - Finished in state \u001b[38;5;160mFailed\u001b[0m('Task run encountered an exception ValueError: Duplicate document exists')\n"
      ]
     },
     "metadata": {},
     "output_type": "display_data"
    },
    {
     "data": {
      "text/html": [
       "<pre style=\"white-space:pre;overflow-x:auto;line-height:normal;font-family:Menlo,'DejaVu Sans Mono',consolas,'Courier New',monospace\">19:48:18.380 | <span style=\"color: #d7d700; text-decoration-color: #d7d700\">WARNING</span> | Flow run<span style=\"color: #800080; text-decoration-color: #800080\"> 'lavender-shrimp'</span> - Error during rename: Duplicate document exists\n",
       "</pre>\n"
      ],
      "text/plain": [
       "19:48:18.380 | \u001b[38;5;184mWARNING\u001b[0m | Flow run\u001b[35m 'lavender-shrimp'\u001b[0m - Error during rename: Duplicate document exists\n"
      ]
     },
     "metadata": {},
     "output_type": "display_data"
    },
    {
     "data": {
      "text/html": [
       "<pre style=\"white-space:pre;overflow-x:auto;line-height:normal;font-family:Menlo,'DejaVu Sans Mono',consolas,'Courier New',monospace\">19:48:18.404 | <span style=\"color: #008080; text-decoration-color: #008080\">INFO</span>    | Task run 'delete_duplicate-149' - Finished in state <span style=\"color: #008000; text-decoration-color: #008000\">Completed</span>()\n",
       "</pre>\n"
      ],
      "text/plain": [
       "19:48:18.404 | \u001b[36mINFO\u001b[0m    | Task run 'delete_duplicate-149' - Finished in state \u001b[32mCompleted\u001b[0m()\n"
      ]
     },
     "metadata": {},
     "output_type": "display_data"
    },
    {
     "data": {
      "text/html": [
       "<pre style=\"white-space:pre;overflow-x:auto;line-height:normal;font-family:Menlo,'DejaVu Sans Mono',consolas,'Courier New',monospace\">19:48:18.429 | <span style=\"color: #008080; text-decoration-color: #008080\">INFO</span>    | Task run 'find_correct_doc-da9' - Finished in state <span style=\"color: #008000; text-decoration-color: #008000\">Completed</span>()\n",
       "</pre>\n"
      ],
      "text/plain": [
       "19:48:18.429 | \u001b[36mINFO\u001b[0m    | Task run 'find_correct_doc-da9' - Finished in state \u001b[32mCompleted\u001b[0m()\n"
      ]
     },
     "metadata": {},
     "output_type": "display_data"
    },
    {
     "name": "stdout",
     "output_type": "stream",
     "text": [
      "Slack: New document created with id DOC-456\n"
     ]
    },
    {
     "data": {
      "text/html": [
       "<pre style=\"white-space:pre;overflow-x:auto;line-height:normal;font-family:Menlo,'DejaVu Sans Mono',consolas,'Courier New',monospace\">19:48:18.455 | <span style=\"color: #008080; text-decoration-color: #008080\">INFO</span>    | Task run 'send_slack_update-f68' - Finished in state <span style=\"color: #008000; text-decoration-color: #008000\">Completed</span>()\n",
       "</pre>\n"
      ],
      "text/plain": [
       "19:48:18.455 | \u001b[36mINFO\u001b[0m    | Task run 'send_slack_update-f68' - Finished in state \u001b[32mCompleted\u001b[0m()\n"
      ]
     },
     "metadata": {},
     "output_type": "display_data"
    },
    {
     "name": "stdout",
     "output_type": "stream",
     "text": [
      "Slack: Congrats! 🎉\n"
     ]
    },
    {
     "data": {
      "text/html": [
       "<pre style=\"white-space:pre;overflow-x:auto;line-height:normal;font-family:Menlo,'DejaVu Sans Mono',consolas,'Courier New',monospace\">19:48:18.481 | <span style=\"color: #008080; text-decoration-color: #008080\">INFO</span>    | Task run 'send_congrats-fc6' - Finished in state <span style=\"color: #008000; text-decoration-color: #008000\">Completed</span>()\n",
       "</pre>\n"
      ],
      "text/plain": [
       "19:48:18.481 | \u001b[36mINFO\u001b[0m    | Task run 'send_congrats-fc6' - Finished in state \u001b[32mCompleted\u001b[0m()\n"
      ]
     },
     "metadata": {},
     "output_type": "display_data"
    },
    {
     "data": {
      "text/html": [
       "<pre style=\"white-space:pre;overflow-x:auto;line-height:normal;font-family:Menlo,'DejaVu Sans Mono',consolas,'Courier New',monospace\">19:48:18.494 | <span style=\"color: #008080; text-decoration-color: #008080\">INFO</span>    | Flow run<span style=\"color: #800080; text-decoration-color: #800080\"> 'lavender-shrimp'</span> - Finished in state <span style=\"color: #008000; text-decoration-color: #008000\">Completed</span>()\n",
       "</pre>\n"
      ],
      "text/plain": [
       "19:48:18.494 | \u001b[36mINFO\u001b[0m    | Flow run\u001b[35m 'lavender-shrimp'\u001b[0m - Finished in state \u001b[32mCompleted\u001b[0m()\n"
      ]
     },
     "metadata": {},
     "output_type": "display_data"
    }
   ],
   "source": [
    "sprint_success_flow()"
   ]
  },
  {
   "cell_type": "markdown",
   "id": "d980a270",
   "metadata": {},
   "source": [
    "Do the following for deployments\n",
    "\n",
    "```bash\n",
    "nbdev_export 02_new_sprint_doc.ipynb\n",
    "```\n",
    "\n",
    "```bash\n",
    "prefect deployment build my_flows.py:sprint_success_flow \\\n",
    "    -n \"sprint-scheduler\" \\\n",
    "    --cron \"0 12 * * 4\"\n",
    "```\n",
    "\n",
    "```bash\n",
    "prefect deployment apply sprint_success_flow-deployment.yaml\n",
    "```"
   ]
  }
 ],
 "metadata": {
  "kernelspec": {
   "display_name": "Python 3",
   "language": "python",
   "name": "python3"
  },
  "language_info": {
   "codemirror_mode": {
    "name": "ipython",
    "version": 3
   },
   "file_extension": ".py",
   "mimetype": "text/x-python",
   "name": "python",
   "nbconvert_exporter": "python",
   "pygments_lexer": "ipython3",
   "version": "3.11.13"
  }
 },
 "nbformat": 4,
 "nbformat_minor": 5
}
