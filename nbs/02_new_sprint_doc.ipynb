{
 "cells": [
  {
   "cell_type": "markdown",
   "id": "6763a0b9",
   "metadata": {},
   "source": [
    "# New Sprint Doc flow\n",
    "\n",
    "The following notebook covers the steps to copy a confluence doc, rename it and then send out some slack messages."
   ]
  },
  {
   "cell_type": "code",
   "execution_count": null,
   "id": "30d48b0c",
   "metadata": {},
   "outputs": [],
   "source": [
    "from prefect import flow, task, get_run_logger\n",
    "from atlassian import Confluence\n",
    "from slack_sdk import WebClient\n",
    "from slack_sdk.errors import SlackApiError\n",
    "from datetime import datetime, timezone, timedelta\n",
    "import os\n",
    "from dotenv import load_dotenv\n",
    "from dataclasses import dataclass\n",
    "\n",
    "load_dotenv()"
   ]
  },
  {
   "cell_type": "code",
   "execution_count": null,
   "id": "42d99922",
   "metadata": {},
   "outputs": [],
   "source": [
    "@task\n",
    "def set_variables():\n",
    "    # Use UTC date for consistency; adjust if you prefer local time\n",
    "    today = datetime.now(timezone.utc).date()\n",
    "    end_date = today + timedelta(days=13)\n",
    "    new_doc_title = f\"{today.isoformat()} - {end_date.isoformat()}\"\n",
    "\n",
    "    return {\n",
    "        \"atlassian_key\": os.getenv(\"ATLASSIAN_KEY\", \"\"),\n",
    "        \"atlassian_domain\": os.getenv(\"ATLASSIAN_DOMAIN\", \"\"),\n",
    "        \"atlassian_email\": os.getenv(\"ATLASSIAN_EMAIL\", \"\"),\n",
    "        \"slack_key\": os.getenv(\"SLACK_KEY\", \"\"),\n",
    "        \"confluence_copy_target_id\": os.getenv(\"CONFLUENCE_COPY_TARGET_ID\", \"\"),\n",
    "        \"slack_user_id\": os.getenv(\"SLACK_USER_ID\", \"\"),\n",
    "        \"confluence_space_id\": os.getenv(\"CONFLUENCE_SPACE_ID\", \"\"),\n",
    "        \"new_doc_title\": new_doc_title,\n",
    "        \"template_id\": os.getenv(\"CONFLUENCE_COPY_TARGET_ID\", \"\")\n",
    "    }"
   ]
  },
  {
   "cell_type": "code",
   "execution_count": null,
   "id": "296d279a",
   "metadata": {},
   "outputs": [],
   "source": [
    "@task\n",
    "def copy_template(variables: dict):\n",
    "    confluence: Confluence = Confluence(\n",
    "        url=variables[\"atlassian_domain\"],\n",
    "        username=variables[\"atlassian_email\"],\n",
    "        password=variables[\"atlassian_key\"],\n",
    "        cloud=True,\n",
    "    )\n",
    "    source_page = confluence.get_page_by_id(page_id=variables[\"confluence_copy_target_id\"], expand=\"body.storage,ancestors\")\n",
    "    \n",
    "    existing = confluence.get_page_by_title(space=variables[\"confluence_space_id\"], title=variables[\"new_doc_title\"])\n",
    "    if existing:\n",
    "        return {\n",
    "            \"doc_id\": existing[\"id\"],\n",
    "            \"title\": existing[\"title\"],\n",
    "            \"created\": False\n",
    "        }\n",
    "\n",
    "    body_html = source_page[\"body\"][\"storage\"][\"value\"]\n",
    "    parent_id = None\n",
    "    ancestors = source_page.get(\"ancestors\") or []\n",
    "    if ancestors:\n",
    "        parent_id = ancestors[-1][\"id\"]\n",
    "\n",
    "    new_page = confluence.create_page(\n",
    "        space=variables[\"confluence_space_id\"],\n",
    "        title=variables[\"new_doc_title\"],\n",
    "        body=body_html,\n",
    "        parent_id=parent_id\n",
    "    )\n",
    "\n",
    "    return {\n",
    "        \"doc_id\": new_page[\"id\"],\n",
    "        \"title\": new_page[\"title\"],\n",
    "        \"created\": True\n",
    "    }"
   ]
  },
  {
   "cell_type": "code",
   "execution_count": null,
   "id": "f1c4f976",
   "metadata": {},
   "outputs": [],
   "source": [
    "copy_template(set_variables())"
   ]
  },
  {
   "cell_type": "code",
   "execution_count": null,
   "id": "83b43bcd",
   "metadata": {},
   "outputs": [],
   "source": [
    "@task\n",
    "def send_slack_update(doc_id: str, variables: dict):\n",
    "    token = variables.get(\"slack_key\")\n",
    "    user_id = variables.get(\"slack_user_id\")\n",
    "    spaces_key = variables.get(\"confluence_space_id\")\n",
    "\n",
    "    client = WebClient(token=token)\n",
    "    try:\n",
    "        im = client.conversations_open(users=user_id)  # single user id\n",
    "        channel_id = im[\"channel\"][\"id\"]\n",
    "        client.chat_postMessage(\n",
    "            channel=channel_id,\n",
    "            text=f\"\"\"@channel\n",
    "Reminder: please enter your success challenges for the current sprint. \n",
    "Enter them here: https://bitovi.atlassian.net/wiki/spaces/{spaces_key}/pages/{doc_id}\n",
    "If you need help or have questions, please ask in this thread or DM me.)\"\"\"\n",
    "        )\n",
    "    except SlackApiError as e:\n",
    "        print(f\"Slack error: {e.response.get('error','unknown_error')}\")"
   ]
  },
  {
   "cell_type": "markdown",
   "id": "6560611f",
   "metadata": {},
   "source": [
    "### just a test on sending the slack message"
   ]
  },
  {
   "cell_type": "code",
   "execution_count": null,
   "id": "09784b09",
   "metadata": {},
   "outputs": [],
   "source": [
    "send_slack_update(set_variables().get(\"confluence_copy_target_id\"), set_variables())"
   ]
  },
  {
   "cell_type": "code",
   "execution_count": null,
   "id": "1962761f",
   "metadata": {},
   "outputs": [],
   "source": [
    "@task\n",
    "def send_congrats(variables: dict):\n",
    "    token = variables.get(\"slack_key\")\n",
    "    user_id = variables.get(\"slack_user_id\")\n",
    "\n",
    "    client = WebClient(token=token)\n",
    "    try:\n",
    "        im = client.conversations_open(users=user_id)  # single user id\n",
    "        channel_id = im[\"channel\"][\"id\"]\n",
    "        client.chat_postMessage(\n",
    "            channel=channel_id,\n",
    "            text=f\"\"\"Congrats, your confluence page has been created and shared on Slack! 🎉\"\"\"\n",
    "        )\n",
    "    except SlackApiError as e:\n",
    "        print(f\"Slack error: {e.response.get('error','unknown_error')}\")"
   ]
  },
  {
   "cell_type": "markdown",
   "id": "f0f1c229",
   "metadata": {},
   "source": [
    "# Main Flow"
   ]
  },
  {
   "cell_type": "code",
   "execution_count": null,
   "id": "ddddb37f",
   "metadata": {},
   "outputs": [],
   "source": [
    "@flow\n",
    "def sprint_success_flow():\n",
    "    vars = set_variables()\n",
    "    doc = copy_template(vars)\n",
    "    send_slack_update(doc.get(\"doc_id\"), vars)\n",
    "    send_congrats(vars)"
   ]
  },
  {
   "cell_type": "code",
   "execution_count": null,
   "id": "1e159229",
   "metadata": {},
   "outputs": [],
   "source": [
    "# Biweekly deployment (every 14 days) anchored to a Thursday noon UTC\n",
    "anchor = datetime(2025, 9, 25, 12, 0, tzinfo=timezone.utc)\n",
    "\n",
    "sprint_success_flow.deploy(\n",
    "    name=\"sprint-scheduler\",\n",
    "    interval=timedelta(days=14),\n",
    "    anchor_date=anchor,\n",
    "    tags=[\"sprint\", \"biweekly\"],\n",
    ")"
   ]
  },
  {
   "cell_type": "code",
   "execution_count": null,
   "id": "cbc00b48",
   "metadata": {},
   "outputs": [],
   "source": [
    "sprint_success_flow()"
   ]
  },
  {
   "cell_type": "markdown",
   "id": "d980a270",
   "metadata": {},
   "source": [
    "Do the following for deployments\n",
    "\n",
    "```bash\n",
    "jupyter nbconvert --to script nbs/02_new_sprint_doc.ipynb\n",
    "```\n",
    "\n",
    "```bash\n",
    "prefect deployment build my_flows.py:sprint_success_flow \\\n",
    "    -n \"sprint-scheduler\" \\\n",
    "    --cron \"0 12 * * 4\"\n",
    "```\n",
    "\n",
    "```bash\n",
    "prefect deployment apply sprint_success_flow-deployment.yaml\n",
    "```"
   ]
  }
 ],
 "metadata": {
  "kernelspec": {
   "display_name": "Python 3",
   "language": "python",
   "name": "python3"
  },
  "language_info": {
   "codemirror_mode": {
    "name": "ipython",
    "version": 3
   },
   "file_extension": ".py",
   "mimetype": "text/x-python",
   "name": "python",
   "nbconvert_exporter": "python",
   "pygments_lexer": "ipython3",
   "version": "3.11.13"
  }
 },
 "nbformat": 4,
 "nbformat_minor": 5
}
