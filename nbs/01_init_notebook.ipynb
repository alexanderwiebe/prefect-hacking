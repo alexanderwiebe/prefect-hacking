{
 "cells": [
  {
   "cell_type": "markdown",
   "id": "fefdee1e",
   "metadata": {},
   "source": [
    "# Init Notebook\n",
    "\n",
    "Getting started"
   ]
  },
  {
   "cell_type": "code",
   "execution_count": 7,
   "id": "e44f5538",
   "metadata": {},
   "outputs": [
    {
     "data": {
      "text/html": [
       "<pre style=\"white-space:pre;overflow-x:auto;line-height:normal;font-family:Menlo,'DejaVu Sans Mono',consolas,'Courier New',monospace\">02:08:53.960 | <span style=\"color: #008080; text-decoration-color: #008080\">INFO</span>    | Flow run<span style=\"color: #800080; text-decoration-color: #800080\"> 'burgundy-cicada'</span> - Beginning flow run<span style=\"color: #800080; text-decoration-color: #800080\"> 'burgundy-cicada'</span> for flow<span style=\"color: #800080; text-decoration-color: #800080; font-weight: bold\"> 'my-instance-method'</span>\n",
       "</pre>\n"
      ],
      "text/plain": [
       "02:08:53.960 | \u001b[36mINFO\u001b[0m    | Flow run\u001b[35m 'burgundy-cicada'\u001b[0m - Beginning flow run\u001b[35m 'burgundy-cicada'\u001b[0m for flow\u001b[1;35m 'my-instance-method'\u001b[0m\n"
      ]
     },
     "metadata": {},
     "output_type": "display_data"
    },
    {
     "data": {
      "text/html": [
       "<pre style=\"white-space:pre;overflow-x:auto;line-height:normal;font-family:Menlo,'DejaVu Sans Mono',consolas,'Courier New',monospace\">02:08:53.962 | <span style=\"color: #008080; text-decoration-color: #008080\">INFO</span>    | Flow run<span style=\"color: #800080; text-decoration-color: #800080\"> 'burgundy-cicada'</span> - View at <span style=\"color: #0000ff; text-decoration-color: #0000ff\">http://host.docker.internal:4200/runs/flow-run/73b1abe1-89fd-464a-8af6-77105550fcf0</span>\n",
       "</pre>\n"
      ],
      "text/plain": [
       "02:08:53.962 | \u001b[36mINFO\u001b[0m    | Flow run\u001b[35m 'burgundy-cicada'\u001b[0m - View at \u001b[94mhttp://host.docker.internal:4200/runs/flow-run/73b1abe1-89fd-464a-8af6-77105550fcf0\u001b[0m\n"
      ]
     },
     "metadata": {},
     "output_type": "display_data"
    },
    {
     "data": {
      "text/html": [
       "<pre style=\"white-space:pre;overflow-x:auto;line-height:normal;font-family:Menlo,'DejaVu Sans Mono',consolas,'Courier New',monospace\">02:08:53.972 | <span style=\"color: #008080; text-decoration-color: #008080\">INFO</span>    | Flow run<span style=\"color: #800080; text-decoration-color: #800080\"> 'burgundy-cicada'</span> - Finished in state <span style=\"color: #008000; text-decoration-color: #008000\">Completed</span>()\n",
       "</pre>\n"
      ],
      "text/plain": [
       "02:08:53.972 | \u001b[36mINFO\u001b[0m    | Flow run\u001b[35m 'burgundy-cicada'\u001b[0m - Finished in state \u001b[32mCompleted\u001b[0m()\n"
      ]
     },
     "metadata": {},
     "output_type": "display_data"
    },
    {
     "data": {
      "text/html": [
       "<pre style=\"white-space:pre;overflow-x:auto;line-height:normal;font-family:Menlo,'DejaVu Sans Mono',consolas,'Courier New',monospace\">02:08:54.031 | <span style=\"color: #008080; text-decoration-color: #008080\">INFO</span>    | Flow run<span style=\"color: #800080; text-decoration-color: #800080\"> 'smoky-saluki'</span> - Beginning flow run<span style=\"color: #800080; text-decoration-color: #800080\"> 'smoky-saluki'</span> for flow<span style=\"color: #800080; text-decoration-color: #800080; font-weight: bold\"> 'my-class-method'</span>\n",
       "</pre>\n"
      ],
      "text/plain": [
       "02:08:54.031 | \u001b[36mINFO\u001b[0m    | Flow run\u001b[35m 'smoky-saluki'\u001b[0m - Beginning flow run\u001b[35m 'smoky-saluki'\u001b[0m for flow\u001b[1;35m 'my-class-method'\u001b[0m\n"
      ]
     },
     "metadata": {},
     "output_type": "display_data"
    },
    {
     "data": {
      "text/html": [
       "<pre style=\"white-space:pre;overflow-x:auto;line-height:normal;font-family:Menlo,'DejaVu Sans Mono',consolas,'Courier New',monospace\">02:08:54.032 | <span style=\"color: #008080; text-decoration-color: #008080\">INFO</span>    | Flow run<span style=\"color: #800080; text-decoration-color: #800080\"> 'smoky-saluki'</span> - View at <span style=\"color: #0000ff; text-decoration-color: #0000ff\">http://host.docker.internal:4200/runs/flow-run/7482f4b8-00d9-4ad2-a137-1433b3c86a44</span>\n",
       "</pre>\n"
      ],
      "text/plain": [
       "02:08:54.032 | \u001b[36mINFO\u001b[0m    | Flow run\u001b[35m 'smoky-saluki'\u001b[0m - View at \u001b[94mhttp://host.docker.internal:4200/runs/flow-run/7482f4b8-00d9-4ad2-a137-1433b3c86a44\u001b[0m\n"
      ]
     },
     "metadata": {},
     "output_type": "display_data"
    },
    {
     "data": {
      "text/html": [
       "<pre style=\"white-space:pre;overflow-x:auto;line-height:normal;font-family:Menlo,'DejaVu Sans Mono',consolas,'Courier New',monospace\">02:08:54.044 | <span style=\"color: #008080; text-decoration-color: #008080\">INFO</span>    | Flow run<span style=\"color: #800080; text-decoration-color: #800080\"> 'smoky-saluki'</span> - Finished in state <span style=\"color: #008000; text-decoration-color: #008000\">Completed</span>()\n",
       "</pre>\n"
      ],
      "text/plain": [
       "02:08:54.044 | \u001b[36mINFO\u001b[0m    | Flow run\u001b[35m 'smoky-saluki'\u001b[0m - Finished in state \u001b[32mCompleted\u001b[0m()\n"
      ]
     },
     "metadata": {},
     "output_type": "display_data"
    },
    {
     "data": {
      "text/html": [
       "<pre style=\"white-space:pre;overflow-x:auto;line-height:normal;font-family:Menlo,'DejaVu Sans Mono',consolas,'Courier New',monospace\">02:08:54.111 | <span style=\"color: #008080; text-decoration-color: #008080\">INFO</span>    | Flow run<span style=\"color: #800080; text-decoration-color: #800080\"> 'lab-scenario-a'</span> - Beginning flow run<span style=\"color: #800080; text-decoration-color: #800080\"> 'lab-scenario-a'</span> for flow<span style=\"color: #800080; text-decoration-color: #800080; font-weight: bold\"> 'my-static-method-flow'</span>\n",
       "</pre>\n"
      ],
      "text/plain": [
       "02:08:54.111 | \u001b[36mINFO\u001b[0m    | Flow run\u001b[35m 'lab-scenario-a'\u001b[0m - Beginning flow run\u001b[35m 'lab-scenario-a'\u001b[0m for flow\u001b[1;35m 'my-static-method-flow'\u001b[0m\n"
      ]
     },
     "metadata": {},
     "output_type": "display_data"
    },
    {
     "data": {
      "text/html": [
       "<pre style=\"white-space:pre;overflow-x:auto;line-height:normal;font-family:Menlo,'DejaVu Sans Mono',consolas,'Courier New',monospace\">02:08:54.113 | <span style=\"color: #008080; text-decoration-color: #008080\">INFO</span>    | Flow run<span style=\"color: #800080; text-decoration-color: #800080\"> 'lab-scenario-a'</span> - View at <span style=\"color: #0000ff; text-decoration-color: #0000ff\">http://host.docker.internal:4200/runs/flow-run/e483fdc7-e133-4e27-8bc2-87111f62e5ee</span>\n",
       "</pre>\n"
      ],
      "text/plain": [
       "02:08:54.113 | \u001b[36mINFO\u001b[0m    | Flow run\u001b[35m 'lab-scenario-a'\u001b[0m - View at \u001b[94mhttp://host.docker.internal:4200/runs/flow-run/e483fdc7-e133-4e27-8bc2-87111f62e5ee\u001b[0m\n"
      ]
     },
     "metadata": {},
     "output_type": "display_data"
    },
    {
     "data": {
      "text/html": [
       "<pre style=\"white-space:pre;overflow-x:auto;line-height:normal;font-family:Menlo,'DejaVu Sans Mono',consolas,'Courier New',monospace\">02:08:54.125 | <span style=\"color: #008080; text-decoration-color: #008080\">INFO</span>    | Flow run<span style=\"color: #800080; text-decoration-color: #800080\"> 'lab-scenario-a'</span> - Finished in state <span style=\"color: #008000; text-decoration-color: #008000\">Completed</span>()\n",
       "</pre>\n"
      ],
      "text/plain": [
       "02:08:54.125 | \u001b[36mINFO\u001b[0m    | Flow run\u001b[35m 'lab-scenario-a'\u001b[0m - Finished in state \u001b[32mCompleted\u001b[0m()\n"
      ]
     },
     "metadata": {},
     "output_type": "display_data"
    },
    {
     "data": {
      "text/plain": [
       "'Hello, from a static method!'"
      ]
     },
     "execution_count": 7,
     "metadata": {},
     "output_type": "execute_result"
    }
   ],
   "source": [
    "from prefect import flow\n",
    "\n",
    "\n",
    "class MyClass:\n",
    "\n",
    "    @flow\n",
    "    def my_instance_method(self):\n",
    "        return \"Hello, from an instance method!\"\n",
    "\n",
    "\n",
    "    @flow\n",
    "    @classmethod\n",
    "    def my_class_method(cls):\n",
    "        return \"Hello, from a class method!\"\n",
    "\n",
    "\n",
    "    @flow(name=\"my-static-method-flow\")\n",
    "    @staticmethod\n",
    "    def my_static_method():\n",
    "        return \"Hello, from a static method!\"\n",
    "\n",
    "\n",
    "MyClass().my_instance_method()\n",
    "MyClass.my_class_method()\n",
    "MyClass.my_static_method.with_options(\n",
    "    flow_run_name=\"lab-scenario-a\",\n",
    ")()"
   ]
  },
  {
   "cell_type": "markdown",
   "id": "43614ea0",
   "metadata": {},
   "source": []
  }
 ],
 "metadata": {
  "kernelspec": {
   "display_name": "Python 3",
   "language": "python",
   "name": "python3"
  },
  "language_info": {
   "codemirror_mode": {
    "name": "ipython",
    "version": 3
   },
   "file_extension": ".py",
   "mimetype": "text/x-python",
   "name": "python",
   "nbconvert_exporter": "python",
   "pygments_lexer": "ipython3",
   "version": "3.11.13"
  }
 },
 "nbformat": 4,
 "nbformat_minor": 5
}
