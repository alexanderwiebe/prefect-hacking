{
 "cells": [
  {
   "cell_type": "markdown",
   "id": "fefdee1e",
   "metadata": {},
   "source": [
    "# Init Notebook\n",
    "\n",
    "Getting started"
   ]
  },
  {
   "cell_type": "code",
   "execution_count": null,
   "id": "e44f5538",
   "metadata": {},
   "outputs": [
    {
     "name": "stdout",
     "output_type": "stream",
     "text": [
      "Hello world, 42!\n"
     ]
    }
   ],
   "source": [
    "# hello world\n",
    "variable = 42\n",
    "print(f\"Hello world, {variable}!\")"
   ]
  },
  {
   "cell_type": "markdown",
   "id": "43614ea0",
   "metadata": {},
   "source": []
  }
 ],
 "metadata": {
  "kernelspec": {
   "display_name": "Python 3",
   "language": "python",
   "name": "python3"
  },
  "language_info": {
   "codemirror_mode": {
    "name": "ipython",
    "version": 3
   },
   "file_extension": ".py",
   "mimetype": "text/x-python",
   "name": "python",
   "nbconvert_exporter": "python",
   "pygments_lexer": "ipython3",
   "version": "3.11.13"
  }
 },
 "nbformat": 4,
 "nbformat_minor": 5
}
